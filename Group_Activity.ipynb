{
 "cells": [
  {
   "cell_type": "code",
   "execution_count": 52,
   "id": "345e6957",
   "metadata": {},
   "outputs": [],
   "source": [
    "import numpy as np\n",
    "import pandas as pd\n",
    "from sklearn import metrics\n",
    "from scipy.spatial.distance import cdist\n",
    "import matplotlib.pyplot as plt\n",
    "from sklearn.linear_model import LogisticRegression\n",
    "from sklearn.preprocessing import StandardScaler\n",
    "from sklearn.model_selection import train_test_split\n",
    "from sklearn.decomposition import TruncatedSVD\n",
    "from sklearn.decomposition import PCA\n",
    "from sklearn.manifold import Isomap as ISO\n",
    "\n",
    "import warnings\n",
    "warnings.filterwarnings(\"ignore\")\n",
    "\n",
    "heart_df = pd.read_csv(\"df.csv\")\n",
    "\n",
    "X = heart_df.drop('class', axis=1).values\n",
    "y = heart_df['class'].values\n",
    "\n",
    "# Split into training and test set\n",
    "X_train, X_test, y_train, y_test = train_test_split(X, y, test_size = 0.3, random_state=42, stratify=y)"
   ]
  },
  {
   "cell_type": "markdown",
   "id": "25ea49f4",
   "metadata": {},
   "source": [
    "##### 1. Take one of the supervised learning models you have built recently and apply at least three dimensionality reduction techniques to it (separately). Be sure to create a short summary of each technique you use. Indicate how each changed the model performance. \n",
    "\n",
    "##### Reference: https://machinelearningmastery.com/dimensionality-reduction-algorithms-with-python/\n"
   ]
  },
  {
   "cell_type": "code",
   "execution_count": 51,
   "id": "bf4f9a6b",
   "metadata": {},
   "outputs": [
    {
     "name": "stdout",
     "output_type": "stream",
     "text": [
      "Optimal Number of Components:  54\n",
      "Accuracy Score:  0.7941176470588235\n"
     ]
    }
   ],
   "source": [
    "# Singular Value Decomposition\n",
    "\n",
    "svd = TruncatedSVD(n_components=1)\n",
    "X_train_svd=svd.fit_transform(X_train)\n",
    "X_test_svd=svd.transform(X_test)\n",
    "model_1 = LogisticRegression(random_state=42).fit(X_train_svd, y_train)\n",
    "best = model_1.score(X_test_svd, y_test)\n",
    "\n",
    "num_comp = 1\n",
    "\n",
    "for i in range(2,136): \n",
    "    svd = TruncatedSVD(n_components=i)\n",
    "    X_train_svd=svd.fit_transform(X_train)\n",
    "    X_test_svd=svd.transform(X_test)\n",
    "    model_1 = LogisticRegression(random_state=42).fit(X_train_svd, y_train)\n",
    "    if model_1.score(X_test_svd, y_test) > best:\n",
    "        best = model_1.score(X_test_svd, y_test)\n",
    "        num_comp = i\n",
    "    else:\n",
    "        pass\n",
    "\n",
    "print('Optimal Number of Components: ', num_comp) \n",
    "print('Accuracy Score: ', best)"
   ]
  },
  {
   "cell_type": "code",
   "execution_count": 48,
   "id": "4cb28edf",
   "metadata": {},
   "outputs": [
    {
     "name": "stdout",
     "output_type": "stream",
     "text": [
      "Optimal Number of Components:  51\n",
      "Accuracy Score:  0.8235294117647058\n"
     ]
    }
   ],
   "source": [
    "# Principal Component Analysis\n",
    "\n",
    "pca = PCA(n_components=1)\n",
    "X_train_pca = pca.fit_transform(X_train)\n",
    "X_test_pca = pca.transform(X_test)\n",
    "\n",
    "model_2 = LogisticRegression(random_state=42).fit(X_train_pca, y_train)\n",
    "best = model_2.score(X_test_pca, y_test)\n",
    "\n",
    "num_comp = 1\n",
    "\n",
    "for i in range(2,136): \n",
    "    pca = PCA(n_components=i)\n",
    "    X_train_pca=pca.fit_transform(X_train)\n",
    "    X_test_pca=pca.transform(X_test)\n",
    "    model_2 = LogisticRegression(random_state=42).fit(X_train_pca, y_train)\n",
    "    if model_2.score(X_test_pca, y_test) > best:\n",
    "        best = model_2.score(X_test_pca, y_test)\n",
    "        num_comp = i\n",
    "    else:\n",
    "        pass\n",
    "\n",
    "print('Optimal Number of Components: ', num_comp) \n",
    "print('Accuracy Score: ', best)"
   ]
  },
  {
   "cell_type": "code",
   "execution_count": 53,
   "id": "4d28490c",
   "metadata": {},
   "outputs": [
    {
     "name": "stdout",
     "output_type": "stream",
     "text": [
      "Optimal Number of Components:  23\n",
      "Accuracy Score:  0.7352941176470589\n"
     ]
    }
   ],
   "source": [
    "# Isomap Embedding\n",
    "\n",
    "iso = ISO(n_components=1)\n",
    "X_train_iso = iso.fit_transform(X_train)\n",
    "X_test_iso = iso.transform(X_test)\n",
    "\n",
    "model_3 = LogisticRegression(random_state=42).fit(X_train_iso, y_train)\n",
    "best = model_3.score(X_test_iso, y_test)\n",
    "\n",
    "num_comp = 1\n",
    "\n",
    "for i in range(2,136): \n",
    "    iso = ISO(n_components=i)\n",
    "    X_train_iso=iso.fit_transform(X_train)\n",
    "    X_test_iso=iso.transform(X_test)\n",
    "    model_3 = LogisticRegression(random_state=42).fit(X_train_iso, y_train)\n",
    "    if model_3.score(X_test_iso, y_test) > best:\n",
    "        best = model_3.score(X_test_iso, y_test)\n",
    "        num_comp = i\n",
    "    else:\n",
    "        pass\n",
    "\n",
    "print('Optimal Number of Components: ', num_comp) \n",
    "print('Accuracy Score: ', best)"
   ]
  },
  {
   "cell_type": "markdown",
   "id": "f9dc0865",
   "metadata": {},
   "source": [
    "### EXPLAIN HERE!"
   ]
  },
  {
   "cell_type": "markdown",
   "id": "14300cd9",
   "metadata": {},
   "source": [
    "##### 2. Write a function that will indicate if an inputted IPv4 address is accurate or not.  IP addresses are valid if they have 4 values between 0 and 255 (inclusive), punctuated by periods.\n",
    "\n",
    "#### Input 1:\n",
    "#### 2.33.245.5\n",
    "#### Output 1:\n",
    "#### True\n",
    "\n",
    "\n",
    "#### Input 2:\n",
    "#### 12.345.67.89\n",
    "#### Output 2:\n",
    "#### False"
   ]
  },
  {
   "cell_type": "code",
   "execution_count": 123,
   "id": "8417b45a",
   "metadata": {},
   "outputs": [],
   "source": [
    "def IPA(address):\n",
    "    try:\n",
    "        numbers = address.split('.')\n",
    "        if len(numbers) != 4:\n",
    "            return False\n",
    "        for number in numbers:\n",
    "            if int(number) < 0 or int(number) > 255:\n",
    "                return False\n",
    "        return True\n",
    "    except Exception as e:\n",
    "        return False"
   ]
  },
  {
   "cell_type": "code",
   "execution_count": 125,
   "id": "b83dc324",
   "metadata": {},
   "outputs": [
    {
     "data": {
      "text/plain": [
       "True"
      ]
     },
     "execution_count": 125,
     "metadata": {},
     "output_type": "execute_result"
    }
   ],
   "source": [
    "IPA('2.33.245.5')"
   ]
  },
  {
   "cell_type": "code",
   "execution_count": 126,
   "id": "65943e57",
   "metadata": {},
   "outputs": [
    {
     "data": {
      "text/plain": [
       "False"
      ]
     },
     "execution_count": 126,
     "metadata": {},
     "output_type": "execute_result"
    }
   ],
   "source": [
    "IPA('12.345.67.89')"
   ]
  },
  {
   "cell_type": "code",
   "execution_count": 124,
   "id": "0c311469",
   "metadata": {},
   "outputs": [
    {
     "data": {
      "text/plain": [
       "False"
      ]
     },
     "execution_count": 124,
     "metadata": {},
     "output_type": "execute_result"
    }
   ],
   "source": [
    "IPA('-32.53.208.33')"
   ]
  },
  {
   "cell_type": "code",
   "execution_count": 106,
   "id": "20de2af8",
   "metadata": {},
   "outputs": [
    {
     "data": {
      "text/plain": [
       "False"
      ]
     },
     "execution_count": 106,
     "metadata": {},
     "output_type": "execute_result"
    }
   ],
   "source": [
    "IPA('32.53.208.330')"
   ]
  },
  {
   "cell_type": "code",
   "execution_count": 107,
   "id": "b5bbd70d",
   "metadata": {},
   "outputs": [
    {
     "data": {
      "text/plain": [
       "False"
      ]
     },
     "execution_count": 107,
     "metadata": {},
     "output_type": "execute_result"
    }
   ],
   "source": [
    "IPA('32a.53.208.33')"
   ]
  }
 ],
 "metadata": {
  "kernelspec": {
   "display_name": "Python 3 (ipykernel)",
   "language": "python",
   "name": "python3"
  },
  "language_info": {
   "codemirror_mode": {
    "name": "ipython",
    "version": 3
   },
   "file_extension": ".py",
   "mimetype": "text/x-python",
   "name": "python",
   "nbconvert_exporter": "python",
   "pygments_lexer": "ipython3",
   "version": "3.9.7"
  }
 },
 "nbformat": 4,
 "nbformat_minor": 5
}
