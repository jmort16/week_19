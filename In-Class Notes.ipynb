{
 "cells": [
  {
   "cell_type": "markdown",
   "id": "29b98c0f",
   "metadata": {},
   "source": [
    "Back propogation requires forward propogation first.  Propogation is the process of applying weights to each node in the hidden layers of a neural network in order to optimize the performance of the model.  This process moves forward from the input layers to the output.  "
   ]
  }
 ],
 "metadata": {
  "kernelspec": {
   "display_name": "Python 3 (ipykernel)",
   "language": "python",
   "name": "python3"
  },
  "language_info": {
   "codemirror_mode": {
    "name": "ipython",
    "version": 3
   },
   "file_extension": ".py",
   "mimetype": "text/x-python",
   "name": "python",
   "nbconvert_exporter": "python",
   "pygments_lexer": "ipython3",
   "version": "3.9.7"
  }
 },
 "nbformat": 4,
 "nbformat_minor": 5
}
